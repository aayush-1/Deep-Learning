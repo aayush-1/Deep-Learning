{
  "nbformat": 4,
  "nbformat_minor": 0,
  "metadata": {
    "colab": {
      "name": "Sansan_Indian_Student_Internship_Test.ipynb",
      "provenance": [],
      "collapsed_sections": [],
      "toc_visible": true,
      "include_colab_link": true
    },
    "kernelspec": {
      "name": "python3",
      "display_name": "Python 3"
    }
  },
  "cells": [
    {
      "cell_type": "markdown",
      "metadata": {
        "id": "view-in-github",
        "colab_type": "text"
      },
      "source": [
        "<a href=\"https://colab.research.google.com/github/aayush-1/Deep-Learning-Scratch/blob/master/Sansan_Indian_Student_Internship_Test.ipynb\" target=\"_parent\"><img src=\"https://colab.research.google.com/assets/colab-badge.svg\" alt=\"Open In Colab\"/></a>"
      ]
    },
    {
      "cell_type": "markdown",
      "metadata": {
        "id": "kvI7ib1DmO7l",
        "colab_type": "text"
      },
      "source": [
        "# Test of Sansan R&D Internship\n",
        "\n",
        "Thank you for your application to Sansan R&D summer internship program.\n",
        "We would like to know your coding skill and approch to NLP task.\n",
        "We will ask questions regarding this notebook during an interview.\n",
        "\n",
        "Please spend about 60 minutes on the entire cording test."
      ]
    },
    {
      "cell_type": "markdown",
      "metadata": {
        "id": "KixyV5idt9A0",
        "colab_type": "text"
      },
      "source": [
        "\n",
        "Student name: Aayush Arora\n",
        "\n",
        "Department: Electrical Engineering and Minor in Computer Science and Engineering\n",
        "\n",
        "\n"
      ]
    },
    {
      "cell_type": "markdown",
      "metadata": {
        "id": "TkEsVhDalMnH",
        "colab_type": "text"
      },
      "source": [
        "## Test Description\n",
        "\n",
        "This experiment aims to predict a news category.\n",
        "\n",
        "There are 3 steps in this test.\n",
        "Please modify this notebook and add comments as markdown cells.\n",
        "\n",
        "## Step. 1: Complete evaluations\n",
        "Go to Evaluation and complete classification evaluation codes.\n",
        "\n",
        "## Step. 2: Add data analysis\n",
        "Exploratory data analysis in this notebook shows Classes, Samples total, Data type, Class names and Class histograms.\n",
        "Please add some exploratory data analysis and write your understanding about the data from your analysis.\n",
        "\n",
        "## Step. 3: Improve classification\n",
        "The example is a simple baseline method.\n",
        "Please modify this notebook to improve classification metric scores.\n",
        "\n",
        "For example, add preprocessing, change classification method, search an optimal parameter.\n",
        "\n",
        "## Advanced task\n",
        "If you have time, deep learning method may improve performance.\n",
        "Change the runtime type for using GPU(Hardware accelerator) and try it.\n",
        "\n"
      ]
    },
    {
      "cell_type": "markdown",
      "metadata": {
        "id": "f0pR-rvHdmGc",
        "colab_type": "text"
      },
      "source": [
        "## Preparing modules and dataset\n",
        "\n",
        "20 Newsgroups [scikit-learn refference](https://scikit-learn.org/stable/modules/generated/sklearn.datasets.fetch_20newsgroups.html), [Official](http://qwone.com/~jason/20Newsgroups/)"
      ]
    },
    {
      "cell_type": "code",
      "metadata": {
        "id": "qv6EycAerVQN",
        "colab_type": "code",
        "colab": {}
      },
      "source": [
        "import re\n",
        "from collections import Counter\n",
        "from pprint import pprint\n",
        "\n",
        "import matplotlib.pyplot as plt\n",
        "import numpy as np\n",
        "import pandas as pd\n",
        "from sklearn.datasets import fetch_20newsgroups\n",
        "from sklearn.feature_extraction.text import TfidfVectorizer\n",
        "# for word count\n",
        "from sklearn.feature_extraction.text import CountVectorizer\n",
        "import nltk\n",
        "import string\n",
        "from nltk.corpus import stopwords\n",
        "from nltk.tokenize import word_tokenize\n",
        "from nltk.stem.porter import PorterStemmer\n",
        "porter = PorterStemmer()\n",
        "from sklearn.linear_model import SGDClassifier\n",
        "from sklearn.pipeline import Pipeline\n",
        "from sklearn.metrics import classification_report, plot_confusion_matrix\n",
        "\n",
        "\n",
        "%matplotlib inline"
      ],
      "execution_count": 0,
      "outputs": []
    },
    {
      "cell_type": "code",
      "metadata": {
        "id": "QbQJB3E-n8vr",
        "colab_type": "code",
        "colab": {}
      },
      "source": [
        ""
      ],
      "execution_count": 0,
      "outputs": []
    },
    {
      "cell_type": "code",
      "metadata": {
        "id": "ipN6PO88r30Y",
        "colab_type": "code",
        "colab": {}
      },
      "source": [
        "newsgroups_train = fetch_20newsgroups(subset='train')\n",
        "newsgroups_test = fetch_20newsgroups(subset='test')"
      ],
      "execution_count": 0,
      "outputs": []
    },
    {
      "cell_type": "markdown",
      "metadata": {
        "id": "hSFBT51YlWGZ",
        "colab_type": "text"
      },
      "source": [
        "## Exploratory data analyis"
      ]
    },
    {
      "cell_type": "code",
      "metadata": {
        "id": "9dQOAY74amP_",
        "colab_type": "code",
        "colab": {
          "base_uri": "https://localhost:8080/",
          "height": 52
        },
        "outputId": "17eed796-1aab-408d-baaa-5f7753471a65"
      },
      "source": [
        "print(newsgroups_train.keys())\n",
        "print(newsgroups_test.keys())"
      ],
      "execution_count": 5,
      "outputs": [
        {
          "output_type": "stream",
          "text": [
            "dict_keys(['data', 'filenames', 'target_names', 'target', 'DESCR'])\n",
            "dict_keys(['data', 'filenames', 'target_names', 'target', 'DESCR'])\n"
          ],
          "name": "stdout"
        }
      ]
    },
    {
      "cell_type": "code",
      "metadata": {
        "id": "cPTIkHBmxrbq",
        "colab_type": "code",
        "colab": {
          "base_uri": "https://localhost:8080/",
          "height": 69
        },
        "outputId": "6c6a8ef2-8b6c-4e92-ca1c-d3e25983442a"
      },
      "source": [
        "print(\"Classes\", len(newsgroups_train.target_names))\n",
        "print(\"Samples total\", len(newsgroups_train.data) + len(newsgroups_test.data))\n",
        "print(\"Data type\", type(newsgroups_train.data[0]))"
      ],
      "execution_count": 8,
      "outputs": [
        {
          "output_type": "stream",
          "text": [
            "Classes 20\n",
            "Samples total 18846\n",
            "Data type <class 'str'>\n"
          ],
          "name": "stdout"
        }
      ]
    },
    {
      "cell_type": "code",
      "metadata": {
        "id": "5RRxwlg0ZNP3",
        "colab_type": "code",
        "colab": {
          "base_uri": "https://localhost:8080/",
          "height": 364
        },
        "outputId": "cecee7a7-b1e8-435f-c07c-c1529eb56760"
      },
      "source": [
        "index_target_name = {i: target_name for i, target_name in enumerate(newsgroups_train.target_names)}\n",
        "pprint(index_target_name)"
      ],
      "execution_count": 9,
      "outputs": [
        {
          "output_type": "stream",
          "text": [
            "{0: 'alt.atheism',\n",
            " 1: 'comp.graphics',\n",
            " 2: 'comp.os.ms-windows.misc',\n",
            " 3: 'comp.sys.ibm.pc.hardware',\n",
            " 4: 'comp.sys.mac.hardware',\n",
            " 5: 'comp.windows.x',\n",
            " 6: 'misc.forsale',\n",
            " 7: 'rec.autos',\n",
            " 8: 'rec.motorcycles',\n",
            " 9: 'rec.sport.baseball',\n",
            " 10: 'rec.sport.hockey',\n",
            " 11: 'sci.crypt',\n",
            " 12: 'sci.electronics',\n",
            " 13: 'sci.med',\n",
            " 14: 'sci.space',\n",
            " 15: 'soc.religion.christian',\n",
            " 16: 'talk.politics.guns',\n",
            " 17: 'talk.politics.mideast',\n",
            " 18: 'talk.politics.misc',\n",
            " 19: 'talk.religion.misc'}\n"
          ],
          "name": "stdout"
        }
      ]
    },
    {
      "cell_type": "code",
      "metadata": {
        "id": "1z8eaRAiYNaL",
        "colab_type": "code",
        "colab": {
          "base_uri": "https://localhost:8080/",
          "height": 862
        },
        "outputId": "bf2129dd-bc88-4a13-aa35-8ebf091875c9"
      },
      "source": [
        "counted = Counter(newsgroups_train.target)\n",
        "pprint(counted)\n",
        "fig = plt.figure(figsize=(16, 6))\n",
        "ax = fig.add_subplot(1, 1, 1)\n",
        "\n",
        "pd.DataFrame(\n",
        "        counted.values(), index=counted.keys()\n",
        "    ).rename(\n",
        "        index=index_target_name,\n",
        "        columns={0: 'number_of_cases'}\n",
        "    ).sort_index().plot(kind=\"bar\", title=\"Category Histogram\", ax=ax)\n",
        "plt.show()"
      ],
      "execution_count": 31,
      "outputs": [
        {
          "output_type": "stream",
          "text": [
            "Counter({10: 600,\n",
            "         15: 599,\n",
            "         8: 598,\n",
            "         9: 597,\n",
            "         11: 595,\n",
            "         7: 594,\n",
            "         13: 594,\n",
            "         14: 593,\n",
            "         5: 593,\n",
            "         2: 591,\n",
            "         12: 591,\n",
            "         3: 590,\n",
            "         6: 585,\n",
            "         1: 584,\n",
            "         4: 578,\n",
            "         17: 564,\n",
            "         16: 546,\n",
            "         0: 480,\n",
            "         18: 465,\n",
            "         19: 377})\n"
          ],
          "name": "stdout"
        },
        {
          "output_type": "display_data",
          "data": {
            "image/png": "[encoded data removed]",
            "text/plain": [
              "<Figure size 1152x432 with 1 Axes>"
            ]
          },
          "metadata": {
            "tags": []
          }
        }
      ]
    },
    {
      "cell_type": "markdown",
      "metadata": {
        "id": "kBUvVIhnQBo6",
        "colab_type": "text"
      },
      "source": [
        "In the step 2, please add your data analysis to below.\n",
        "For example, counting high frequency word."
      ]
    },
    {
      "cell_type": "code",
      "metadata": {
        "id": "Qg8gOl3KC0qu",
        "colab_type": "code",
        "colab": {
          "base_uri": "https://localhost:8080/",
          "height": 538
        },
        "outputId": "57ebcdad-04ab-48ab-b6f4-543ecc899c6e"
      },
      "source": [
        "print(\"******************************************************************************\")\n",
        "print(newsgroups_train.data[23])\n",
        "print(\"******************************************************************************\")\n",
        "print(newsgroups_train.target[21])"
      ],
      "execution_count": 68,
      "outputs": [
        {
          "output_type": "stream",
          "text": [
            "******************************************************************************\n",
            "From: csyphers@uafhp..uark.edu (Chris Syphers)\n",
            "Subject: Re: ?? DOS font size in windows??\n",
            "Organization: Kansas State University\n",
            "Lines: 20\n",
            "NNTP-Posting-Host: uafhp.uark.edu\n",
            "\n",
            "ssa@unity.ncsu.edu (S. Alavi) writes:\n",
            "\n",
            "\n",
            ">\tI have an 8514/A card, and I am using windows in 1024x768 mode \n",
            ">\t(normal 8514/A font, not small).  In the 386 enhanced mode\n",
            ">\tthe DOS window font is too small for my 14\" monitor. Is there a \n",
            ">\tway to spacify the font size for the DOS window? You'll have to \n",
            ">\texcuse me if there is a trivial answer, since I am fairly new to\n",
            ">\tMS Windows world.\n",
            "\n",
            ">\tThanks.\n",
            "\n",
            ">\t(Please include this message for reference)\n",
            ">\t======  S. Alavi    [ssa@unity.ncsu.edu]  (919)467-7909 (H)  ========\n",
            ">\t\t\t\t\t\t  (919)515-8063 (W)\n",
            "The control box of the Window itself (upper left corner of the window, single\n",
            "click, am I being too simplistic?) has a font option. The 8 X 12 is about the\n",
            "biggest one I can use without the characters turning funky. \n",
            "\n",
            "Hpoe this helps.\n",
            "\n",
            "******************************************************************************\n",
            "10\n"
          ],
          "name": "stdout"
        }
      ]
    },
    {
      "cell_type": "markdown",
      "metadata": {
        "id": "bWVd956JC5do",
        "colab_type": "text"
      },
      "source": [
        "Analysis:\n",
        "\n",
        "\n",
        "*   Lot of email IDs and names which are not necessary\n",
        "*   excessive use of commas, apostrophes, quotes, question marks and some symbols such as <, >, / etc.\n",
        "\n",
        "\n",
        "*   Use of repititive words such as From, Subject, Organization, Lines etc in every write up.\n",
        "*   Consist of several numbers which are irrelevent to the classification task.\n",
        "\n",
        "\n",
        "\n"
      ]
    },
    {
      "cell_type": "code",
      "metadata": {
        "id": "Sspiou7-QIKE",
        "colab_type": "code",
        "colab": {}
      },
      "source": [
        "# write your code\n",
        "\n",
        "# remove email address\n",
        "lst = [re.findall('\\S+@\\S+', s) for s in newsgroups_train.data]\n",
        "for x in lst:\n",
        "  x.append('From:')\n",
        "  x.append('Subject:')\n",
        "  x.append('Organization:')\n",
        "  x.append('Lines:')\n",
        "  \n",
        "data0=[]\n",
        "for i in range(len(newsgroups_train.data)):\n",
        "  words=newsgroups_train.data[i].split()\n",
        "  a=[x for x in words if x not in lst[i]]\n",
        "  result = ' '.join(a)\n",
        "  data0.append(result)\n",
        "\n"
      ],
      "execution_count": 0,
      "outputs": []
    },
    {
      "cell_type": "markdown",
      "metadata": {
        "id": "ZBKbisW5RrEV",
        "colab_type": "text"
      },
      "source": [
        "The above code removes email IDs and words appearing in every document. Further we will tokenize the data and remove punctuation symbols. I used re.split() to tokenize because word_tokenize() function only split words by spaces and not by punctuation symbols.\n",
        "The words are stemmed so that the focus lies on sentiment of the word and also to reduce vocabulary.\n",
        "\n",
        "\n",
        "Earlier the most frequent words were the stopping_words but on removing them we can visualize the frequency of other words properly.\n",
        "\n",
        "On checking,there were many redundant words in some of the data files, whose frequency was really high such as \"ax\" and \"nntp\", hence these were also removed from the data.\n",
        "\n"
      ]
    },
    {
      "cell_type": "code",
      "metadata": {
        "id": "AQabPcxZQPnA",
        "colab_type": "code",
        "colab": {}
      },
      "source": [
        "#split into words \n",
        "data1=[re.split(r'\\W+', x) for x in data0]\n",
        "\n",
        "#remove punctuations and filter stop words\n",
        "data2=[]\n",
        "stop_words = stopwords.words('english')\n",
        "for i in range(len(data1)):\n",
        "  a=[x.lower() for x in data1[i] if x.isalpha() and x.lower() not in stop_words]\n",
        "  data2.append(a)\n",
        "\n",
        "#stem words (optional and might reduce number of words)\n",
        "data=[]\n",
        "lst=['ax','nntp','max']\n",
        "for i in range(len(data2)):\n",
        "  stemmed = [porter.stem(x) for x in data2[i]]\n",
        "  a=[x for x in stemmed if x not in lst]\n",
        "  result = ' '.join(a)\n",
        "  data.append(result)\n",
        "\n"
      ],
      "execution_count": 0,
      "outputs": []
    },
    {
      "cell_type": "code",
      "metadata": {
        "id": "ONBlAm5EZvj_",
        "colab_type": "code",
        "colab": {
          "base_uri": "https://localhost:8080/",
          "height": 121
        },
        "outputId": "dde7c7b9-1027-4f3c-8c95-33710b9c92fc"
      },
      "source": [
        "\n",
        "\n",
        "vectorizer = CountVectorizer()\n",
        "X = vectorizer.fit_transform(data)\n",
        "\n",
        "inds=np.argsort(X.toarray().sum(axis=0))\n",
        "word_frequency=np.sort(X.toarray().sum(axis=0))[::-1]\n",
        "word=np.array(vectorizer.get_feature_names())[inds][::-1]\n",
        "print(X.toarray().shape)\n",
        "print(word[:20])\n",
        "print(word_frequency[:20])"
      ],
      "execution_count": 108,
      "outputs": [
        {
          "output_type": "stream",
          "text": [
            "(11314, 54940)\n",
            "['one' 'use' 'would' 'write' 'articl' 'post' 'like' 'get' 'peopl'\n",
            " 'univers' 'know' 'time' 'think' 'host' 'say' 'go' 'make' 'also' 'system'\n",
            " 'work']\n",
            "[9485 9418 8905 8818 7700 7688 6584 6319 6028 6028 5717 5193 5140 5027\n",
            " 4671 4483 4333 4305 4107 4072]\n"
          ],
          "name": "stdout"
        }
      ]
    },
    {
      "cell_type": "code",
      "metadata": {
        "id": "MxTQEGVwmUC_",
        "colab_type": "code",
        "colab": {}
      },
      "source": [
        ""
      ],
      "execution_count": 0,
      "outputs": []
    },
    {
      "cell_type": "markdown",
      "metadata": {
        "id": "rWPvvyVwlbl5",
        "colab_type": "text"
      },
      "source": [
        "## Building Classifier\n",
        "In the step 3, please modify code to improve classification.\n"
      ]
    },
    {
      "cell_type": "code",
      "metadata": {
        "id": "snX0xFKspH5n",
        "colab_type": "code",
        "colab": {}
      },
      "source": [
        "def preprocessor(text):\n",
        "    # text = re.sub(r\"pattern\", \"repl\", text)\n",
        "    return text"
      ],
      "execution_count": 0,
      "outputs": []
    },
    {
      "cell_type": "code",
      "metadata": {
        "id": "Fq4C7Sxs0V1I",
        "colab_type": "code",
        "colab": {}
      },
      "source": [
        "steps = [\n",
        "         ('tfidf_vect', TfidfVectorizer(preprocessor=preprocessor, lowercase=False, stop_words=None)),\n",
        "         ('clf', SGDClassifier())\n",
        "]\n",
        "pipeline = Pipeline(steps)"
      ],
      "execution_count": 0,
      "outputs": []
    },
    {
      "cell_type": "code",
      "metadata": {
        "id": "bCP1j7dwWwAi",
        "colab_type": "code",
        "colab": {}
      },
      "source": [
        "pipeline.fit(\n",
        "    X=newsgroups_train.data, \n",
        "    y=newsgroups_train.target\n",
        ")"
      ],
      "execution_count": 0,
      "outputs": []
    },
    {
      "cell_type": "code",
      "metadata": {
        "id": "Vkany-uvH7Zj",
        "colab_type": "code",
        "colab": {}
      },
      "source": [
        "# modify or write your code"
      ],
      "execution_count": 0,
      "outputs": []
    },
    {
      "cell_type": "markdown",
      "metadata": {
        "id": "2LW9A0C2le4T",
        "colab_type": "text"
      },
      "source": [
        "## Evaluation\n",
        "\n",
        "In the step 1, please complete and run this evaluation code.\n",
        "\n",
        "Reference of [classification_report](https://scikit-learn.org/stable/modules/generated/sklearn.metrics.classification_report.html)."
      ]
    },
    {
      "cell_type": "code",
      "metadata": {
        "id": "3QN04s8yXcZT",
        "colab_type": "code",
        "colab": {}
      },
      "source": [
        "# fill and modify this code\n",
        "y_pred = # fill a code\n",
        "y_true = # fill a code\n",
        "target_names = # fill a code\n",
        "\n",
        "print(\n",
        "    classification_report(\n",
        "        y_true,\n",
        "        y_pred,\n",
        "        target_names=target_names\n",
        "    )\n",
        ")"
      ],
      "execution_count": 0,
      "outputs": []
    },
    {
      "cell_type": "code",
      "metadata": {
        "id": "EiUlSJYGekrt",
        "colab_type": "code",
        "colab": {}
      },
      "source": [
        "estimator = # fill code\n",
        "X = # fill code\n",
        "\n",
        "fig = plt.figure(figsize=(18, 18))\n",
        "ax = fig.add_subplot(1, 1, 1)\n",
        "\n",
        "disp = plot_confusion_matrix(\n",
        "    estimator=estimator,\n",
        "    X=X,\n",
        "    y_true=y_true,\n",
        "    display_labels=target_names,\n",
        "    cmap=plt.cm.Blues,\n",
        "    xticks_rotation='vertical',\n",
        "    ax=ax,\n",
        "    normalize='true'\n",
        ")\n",
        "disp.ax_.set_title(\"Confusion Matrix\")\n",
        "\n",
        "plt.show()"
      ],
      "execution_count": 0,
      "outputs": []
    },
    {
      "cell_type": "markdown",
      "metadata": {
        "id": "GcTnhqWaH9vh",
        "colab_type": "text"
      },
      "source": [
        "If you want to evaluate another way, please write code below."
      ]
    },
    {
      "cell_type": "code",
      "metadata": {
        "id": "dSJC39G_H84u",
        "colab_type": "code",
        "colab": {}
      },
      "source": [
        "# write your code"
      ],
      "execution_count": 0,
      "outputs": []
    },
    {
      "cell_type": "markdown",
      "metadata": {
        "id": "HWkni7A4QXSt",
        "colab_type": "text"
      },
      "source": [
        "# Advanced task\n",
        "\n",
        "In the advanced step, try deep learning model!\n",
        "(Only when it took less that an hour to solve the above 3 steps, please try the additional task.)"
      ]
    },
    {
      "cell_type": "code",
      "metadata": {
        "id": "b6Vnh6hfmC0M",
        "colab_type": "code",
        "colab": {}
      },
      "source": [
        "# write your code"
      ],
      "execution_count": 0,
      "outputs": []
    }
  ]
}